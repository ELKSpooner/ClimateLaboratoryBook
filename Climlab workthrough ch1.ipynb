{
 "cells": [
  {
   "cell_type": "code",
   "execution_count": 27,
   "id": "712b4dcf-54e1-4be1-b222-142ed2599f66",
   "metadata": {},
   "outputs": [],
   "source": [
    "#The earth behaves like a blackbody radiator with effective global mean emission temperature Te\n",
    "\n",
    "sbc = 5.67e-8 #W m-2 K-4 (stefan-boltzmann constant)\n",
    "outgoing_longwave_radiation = 238.5 #W m-2\n",
    "\n",
    "Te = (outgoing_longwave_radiation/sbc)**(1/4) #255K, actual global mean surface temperature is 288K\n",
    "Ts = 288 #K"
   ]
  },
  {
   "cell_type": "code",
   "execution_count": 26,
   "id": "16410b48-fc9c-4ca5-8f09-49efa691ee6a",
   "metadata": {},
   "outputs": [],
   "source": [
    "#We can model the greenhouse effect using a 'transmissivity' constant tau. This represents the fraction\n",
    "#of emission from the surface that makes it all the way to space\n",
    "\n",
    "tau = outgoing_longwave_radiation/(sbc*(Ts**4))\n"
   ]
  },
  {
   "cell_type": "code",
   "execution_count": 25,
   "id": "b3e0814b-9a67-4653-8f77-7c1f4573164d",
   "metadata": {},
   "outputs": [],
   "source": [
    "#Using this we can calculate outgoing longwave radiation for a warmer earth temperature\n",
    "\n",
    "Ts_2 = 292\n",
    "outgoing_longwave_radiation_2 = tau*sbc*(Ts_2**4)\n"
   ]
  },
  {
   "cell_type": "code",
   "execution_count": 24,
   "id": "fd6fdf85-779c-40d3-9427-90dcdea0ee96",
   "metadata": {},
   "outputs": [
    {
     "data": {
      "text/plain": [
       "238.3385101074432"
      ]
     },
     "execution_count": 24,
     "metadata": {},
     "output_type": "execute_result"
    }
   ],
   "source": [
    "#We can now define a function to calculate outgoing longwave radiation from global surface temperature\n",
    "\n",
    "def OLR(temperature):\n",
    "    tau = 0.611\n",
    "    sbc = 5.67e-8\n",
    "    OLR = tau*sbc*(temperature**4)\n",
    "    return OLR\n",
    "\n",
    "OLR(288)"
   ]
  },
  {
   "cell_type": "code",
   "execution_count": 23,
   "id": "4eb399ec-08fc-4985-9c21-af12850f2000",
   "metadata": {},
   "outputs": [],
   "source": [
    "import numpy as np\n",
    "T = np.linspace(230, 300, 10) #temp array\n",
    "OLR_array = OLR(T)\n"
   ]
  },
  {
   "cell_type": "code",
   "execution_count": 21,
   "id": "5f30c7cd-3de7-486d-b315-d3a755f1e99f",
   "metadata": {},
   "outputs": [
    {
     "name": "stdout",
     "output_type": "stream",
     "text": [
      "\f",
      "\n"
     ]
    }
   ],
   "source": []
  },
  {
   "cell_type": "code",
   "execution_count": 20,
   "id": "addba3f1-1951-4f5b-a7db-c18eb808602a",
   "metadata": {},
   "outputs": [
    {
     "name": "stdout",
     "output_type": "stream",
     "text": [
      "\f",
      "\n"
     ]
    }
   ],
   "source": []
  },
  {
   "cell_type": "code",
   "execution_count": null,
   "id": "c7ef7d89-7e01-4e73-8f4c-0d81aaf9c511",
   "metadata": {},
   "outputs": [],
   "source": []
  }
 ],
 "metadata": {
  "kernelspec": {
   "display_name": "Python 3 (ipykernel)",
   "language": "python",
   "name": "python3"
  },
  "language_info": {
   "codemirror_mode": {
    "name": "ipython",
    "version": 3
   },
   "file_extension": ".py",
   "mimetype": "text/x-python",
   "name": "python",
   "nbconvert_exporter": "python",
   "pygments_lexer": "ipython3",
   "version": "3.10.12"
  }
 },
 "nbformat": 4,
 "nbformat_minor": 5
}
